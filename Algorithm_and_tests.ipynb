{
 "cells": [
  {
   "cell_type": "code",
   "execution_count": 117,
   "metadata": {},
   "outputs": [],
   "source": [
    "import pandas as pd \n",
    "import numpy as np\n",
    "from sklearn import metrics\n",
    "from sklearn.base import BaseEstimator, ClassifierMixin\n",
    "from sklearn.utils.validation import check_X_y, check_array\n",
    "from sklearn.metrics import accuracy_score\n",
    "from sklearn.metrics import precision_score\n",
    "from sklearn.metrics import recall_score\n",
    "from sklearn.neighbors import KNeighborsClassifier\n",
    "from sklearn.linear_model import LogisticRegression\n",
    "from sklearn.model_selection import train_test_split\n",
    "import matplotlib.pyplot as plt"
   ]
  },
  {
   "cell_type": "code",
   "execution_count": 55,
   "metadata": {},
   "outputs": [],
   "source": [
    "import warnings\n",
    "warnings.simplefilter(action='ignore', category=FutureWarning)\n",
    "warnings.simplefilter(action='ignore', category=RuntimeWarning)"
   ]
  },
  {
   "cell_type": "code",
   "execution_count": 226,
   "metadata": {},
   "outputs": [],
   "source": [
    "class LazyClassifier(BaseEstimator, ClassifierMixin):\n",
    "    \n",
    "    def __init__(self, threshold=0.1):\n",
    "        self.threshold = threshold\n",
    "        #threshold here is a coefficient that determines, greater than what part of the length of positive \n",
    "        #objects should be the number of matches\n",
    "    \n",
    "    def fit(self,X,y):\n",
    "        X, y = check_X_y(X, y)\n",
    "        self.X = X\n",
    "        self.y = y\n",
    "        self.X_pos = X[y == 1]\n",
    "        self.X_neg = X[y == 0]\n",
    "        return self\n",
    "        \n",
    "    def predict(self, X):\n",
    "        X = check_array(X)\n",
    "        y_pred = []\n",
    "        \n",
    "        for x in X:\n",
    "            num_pos = 0\n",
    "            num_neg = 0\n",
    "            for pos_x in self.X_pos:\n",
    "                if np.sum(x == pos_x)> int(len(pos_x)*self.threshold):\n",
    "                    num_pos += 1\n",
    "            for neg_x in self.X_neg:\n",
    "                if np.sum(x == neg_x) > int(len(neg_x)*self.threshold):\n",
    "                    num_neg += 1\n",
    "            \n",
    "            num_pos = num_pos / float(len(self.X_pos))     \n",
    "            num_neg = num_neg / float(len(self.X_neg))\n",
    "            \n",
    "            if (num_pos > num_neg):\n",
    "                y_pred.append(1)\n",
    "            else:\n",
    "                y_pred.append(0)\n",
    "\n",
    "        return np.array(y_pred)"
   ]
  },
  {
   "cell_type": "code",
   "execution_count": 256,
   "metadata": {},
   "outputs": [
    {
     "data": {
      "text/html": [
       "<div>\n",
       "<style scoped>\n",
       "    .dataframe tbody tr th:only-of-type {\n",
       "        vertical-align: middle;\n",
       "    }\n",
       "\n",
       "    .dataframe tbody tr th {\n",
       "        vertical-align: top;\n",
       "    }\n",
       "\n",
       "    .dataframe thead th {\n",
       "        text-align: right;\n",
       "    }\n",
       "</style>\n",
       "<table border=\"1\" class=\"dataframe\">\n",
       "  <thead>\n",
       "    <tr style=\"text-align: right;\">\n",
       "      <th></th>\n",
       "      <th>anaemia</th>\n",
       "      <th>diabetes</th>\n",
       "      <th>high_blood_pressure</th>\n",
       "      <th>sex</th>\n",
       "      <th>smoking</th>\n",
       "      <th>DEATH_EVENT</th>\n",
       "      <th>age_0</th>\n",
       "      <th>age_1</th>\n",
       "      <th>age_2</th>\n",
       "      <th>age_3</th>\n",
       "      <th>...</th>\n",
       "      <th>platelets_4</th>\n",
       "      <th>platelets_5</th>\n",
       "      <th>platelets_6</th>\n",
       "      <th>creatinine_phosphokinase_0</th>\n",
       "      <th>creatinine_phosphokinase_1</th>\n",
       "      <th>creatinine_phosphokinase_2</th>\n",
       "      <th>creatinine_phosphokinase_3</th>\n",
       "      <th>creatinine_phosphokinase_4</th>\n",
       "      <th>creatinine_phosphokinase_5</th>\n",
       "      <th>creatinine_phosphokinase_6</th>\n",
       "    </tr>\n",
       "  </thead>\n",
       "  <tbody>\n",
       "    <tr>\n",
       "      <td>0</td>\n",
       "      <td>0</td>\n",
       "      <td>0</td>\n",
       "      <td>1</td>\n",
       "      <td>1</td>\n",
       "      <td>0</td>\n",
       "      <td>1</td>\n",
       "      <td>1</td>\n",
       "      <td>1</td>\n",
       "      <td>1</td>\n",
       "      <td>1</td>\n",
       "      <td>...</td>\n",
       "      <td>0</td>\n",
       "      <td>0</td>\n",
       "      <td>0</td>\n",
       "      <td>0</td>\n",
       "      <td>0</td>\n",
       "      <td>0</td>\n",
       "      <td>0</td>\n",
       "      <td>0</td>\n",
       "      <td>0</td>\n",
       "      <td>0</td>\n",
       "    </tr>\n",
       "    <tr>\n",
       "      <td>1</td>\n",
       "      <td>0</td>\n",
       "      <td>0</td>\n",
       "      <td>0</td>\n",
       "      <td>1</td>\n",
       "      <td>0</td>\n",
       "      <td>1</td>\n",
       "      <td>1</td>\n",
       "      <td>1</td>\n",
       "      <td>0</td>\n",
       "      <td>0</td>\n",
       "      <td>...</td>\n",
       "      <td>0</td>\n",
       "      <td>0</td>\n",
       "      <td>0</td>\n",
       "      <td>1</td>\n",
       "      <td>1</td>\n",
       "      <td>1</td>\n",
       "      <td>1</td>\n",
       "      <td>1</td>\n",
       "      <td>1</td>\n",
       "      <td>1</td>\n",
       "    </tr>\n",
       "    <tr>\n",
       "      <td>2</td>\n",
       "      <td>0</td>\n",
       "      <td>0</td>\n",
       "      <td>0</td>\n",
       "      <td>1</td>\n",
       "      <td>1</td>\n",
       "      <td>1</td>\n",
       "      <td>1</td>\n",
       "      <td>1</td>\n",
       "      <td>1</td>\n",
       "      <td>0</td>\n",
       "      <td>...</td>\n",
       "      <td>0</td>\n",
       "      <td>0</td>\n",
       "      <td>0</td>\n",
       "      <td>0</td>\n",
       "      <td>0</td>\n",
       "      <td>0</td>\n",
       "      <td>0</td>\n",
       "      <td>0</td>\n",
       "      <td>0</td>\n",
       "      <td>0</td>\n",
       "    </tr>\n",
       "    <tr>\n",
       "      <td>3</td>\n",
       "      <td>1</td>\n",
       "      <td>0</td>\n",
       "      <td>0</td>\n",
       "      <td>1</td>\n",
       "      <td>0</td>\n",
       "      <td>1</td>\n",
       "      <td>1</td>\n",
       "      <td>0</td>\n",
       "      <td>0</td>\n",
       "      <td>0</td>\n",
       "      <td>...</td>\n",
       "      <td>0</td>\n",
       "      <td>0</td>\n",
       "      <td>0</td>\n",
       "      <td>0</td>\n",
       "      <td>0</td>\n",
       "      <td>0</td>\n",
       "      <td>0</td>\n",
       "      <td>0</td>\n",
       "      <td>0</td>\n",
       "      <td>0</td>\n",
       "    </tr>\n",
       "    <tr>\n",
       "      <td>4</td>\n",
       "      <td>1</td>\n",
       "      <td>1</td>\n",
       "      <td>0</td>\n",
       "      <td>0</td>\n",
       "      <td>0</td>\n",
       "      <td>1</td>\n",
       "      <td>1</td>\n",
       "      <td>1</td>\n",
       "      <td>1</td>\n",
       "      <td>0</td>\n",
       "      <td>...</td>\n",
       "      <td>0</td>\n",
       "      <td>0</td>\n",
       "      <td>0</td>\n",
       "      <td>0</td>\n",
       "      <td>0</td>\n",
       "      <td>0</td>\n",
       "      <td>0</td>\n",
       "      <td>0</td>\n",
       "      <td>0</td>\n",
       "      <td>0</td>\n",
       "    </tr>\n",
       "    <tr>\n",
       "      <td>...</td>\n",
       "      <td>...</td>\n",
       "      <td>...</td>\n",
       "      <td>...</td>\n",
       "      <td>...</td>\n",
       "      <td>...</td>\n",
       "      <td>...</td>\n",
       "      <td>...</td>\n",
       "      <td>...</td>\n",
       "      <td>...</td>\n",
       "      <td>...</td>\n",
       "      <td>...</td>\n",
       "      <td>...</td>\n",
       "      <td>...</td>\n",
       "      <td>...</td>\n",
       "      <td>...</td>\n",
       "      <td>...</td>\n",
       "      <td>...</td>\n",
       "      <td>...</td>\n",
       "      <td>...</td>\n",
       "      <td>...</td>\n",
       "      <td>...</td>\n",
       "    </tr>\n",
       "    <tr>\n",
       "      <td>294</td>\n",
       "      <td>0</td>\n",
       "      <td>1</td>\n",
       "      <td>1</td>\n",
       "      <td>1</td>\n",
       "      <td>1</td>\n",
       "      <td>0</td>\n",
       "      <td>1</td>\n",
       "      <td>1</td>\n",
       "      <td>1</td>\n",
       "      <td>0</td>\n",
       "      <td>...</td>\n",
       "      <td>0</td>\n",
       "      <td>0</td>\n",
       "      <td>0</td>\n",
       "      <td>0</td>\n",
       "      <td>0</td>\n",
       "      <td>0</td>\n",
       "      <td>0</td>\n",
       "      <td>0</td>\n",
       "      <td>0</td>\n",
       "      <td>0</td>\n",
       "    </tr>\n",
       "    <tr>\n",
       "      <td>295</td>\n",
       "      <td>0</td>\n",
       "      <td>0</td>\n",
       "      <td>0</td>\n",
       "      <td>0</td>\n",
       "      <td>0</td>\n",
       "      <td>0</td>\n",
       "      <td>1</td>\n",
       "      <td>1</td>\n",
       "      <td>0</td>\n",
       "      <td>0</td>\n",
       "      <td>...</td>\n",
       "      <td>0</td>\n",
       "      <td>0</td>\n",
       "      <td>0</td>\n",
       "      <td>1</td>\n",
       "      <td>0</td>\n",
       "      <td>0</td>\n",
       "      <td>0</td>\n",
       "      <td>0</td>\n",
       "      <td>0</td>\n",
       "      <td>0</td>\n",
       "    </tr>\n",
       "    <tr>\n",
       "      <td>296</td>\n",
       "      <td>0</td>\n",
       "      <td>1</td>\n",
       "      <td>0</td>\n",
       "      <td>0</td>\n",
       "      <td>0</td>\n",
       "      <td>0</td>\n",
       "      <td>0</td>\n",
       "      <td>0</td>\n",
       "      <td>0</td>\n",
       "      <td>0</td>\n",
       "      <td>...</td>\n",
       "      <td>1</td>\n",
       "      <td>1</td>\n",
       "      <td>1</td>\n",
       "      <td>1</td>\n",
       "      <td>0</td>\n",
       "      <td>0</td>\n",
       "      <td>0</td>\n",
       "      <td>0</td>\n",
       "      <td>0</td>\n",
       "      <td>0</td>\n",
       "    </tr>\n",
       "    <tr>\n",
       "      <td>297</td>\n",
       "      <td>0</td>\n",
       "      <td>0</td>\n",
       "      <td>0</td>\n",
       "      <td>1</td>\n",
       "      <td>1</td>\n",
       "      <td>0</td>\n",
       "      <td>0</td>\n",
       "      <td>0</td>\n",
       "      <td>0</td>\n",
       "      <td>0</td>\n",
       "      <td>...</td>\n",
       "      <td>0</td>\n",
       "      <td>0</td>\n",
       "      <td>0</td>\n",
       "      <td>1</td>\n",
       "      <td>1</td>\n",
       "      <td>0</td>\n",
       "      <td>0</td>\n",
       "      <td>0</td>\n",
       "      <td>0</td>\n",
       "      <td>0</td>\n",
       "    </tr>\n",
       "    <tr>\n",
       "      <td>298</td>\n",
       "      <td>0</td>\n",
       "      <td>0</td>\n",
       "      <td>0</td>\n",
       "      <td>1</td>\n",
       "      <td>1</td>\n",
       "      <td>0</td>\n",
       "      <td>1</td>\n",
       "      <td>0</td>\n",
       "      <td>0</td>\n",
       "      <td>0</td>\n",
       "      <td>...</td>\n",
       "      <td>0</td>\n",
       "      <td>0</td>\n",
       "      <td>0</td>\n",
       "      <td>0</td>\n",
       "      <td>0</td>\n",
       "      <td>0</td>\n",
       "      <td>0</td>\n",
       "      <td>0</td>\n",
       "      <td>0</td>\n",
       "      <td>0</td>\n",
       "    </tr>\n",
       "  </tbody>\n",
       "</table>\n",
       "<p>299 rows × 55 columns</p>\n",
       "</div>"
      ],
      "text/plain": [
       "     anaemia  diabetes  high_blood_pressure  sex  smoking  DEATH_EVENT  age_0  \\\n",
       "0          0         0                    1    1        0            1      1   \n",
       "1          0         0                    0    1        0            1      1   \n",
       "2          0         0                    0    1        1            1      1   \n",
       "3          1         0                    0    1        0            1      1   \n",
       "4          1         1                    0    0        0            1      1   \n",
       "..       ...       ...                  ...  ...      ...          ...    ...   \n",
       "294        0         1                    1    1        1            0      1   \n",
       "295        0         0                    0    0        0            0      1   \n",
       "296        0         1                    0    0        0            0      0   \n",
       "297        0         0                    0    1        1            0      0   \n",
       "298        0         0                    0    1        1            0      1   \n",
       "\n",
       "     age_1  age_2  age_3  ...  platelets_4  platelets_5  platelets_6  \\\n",
       "0        1      1      1  ...            0            0            0   \n",
       "1        1      0      0  ...            0            0            0   \n",
       "2        1      1      0  ...            0            0            0   \n",
       "3        0      0      0  ...            0            0            0   \n",
       "4        1      1      0  ...            0            0            0   \n",
       "..     ...    ...    ...  ...          ...          ...          ...   \n",
       "294      1      1      0  ...            0            0            0   \n",
       "295      1      0      0  ...            0            0            0   \n",
       "296      0      0      0  ...            1            1            1   \n",
       "297      0      0      0  ...            0            0            0   \n",
       "298      0      0      0  ...            0            0            0   \n",
       "\n",
       "     creatinine_phosphokinase_0  creatinine_phosphokinase_1  \\\n",
       "0                             0                           0   \n",
       "1                             1                           1   \n",
       "2                             0                           0   \n",
       "3                             0                           0   \n",
       "4                             0                           0   \n",
       "..                          ...                         ...   \n",
       "294                           0                           0   \n",
       "295                           1                           0   \n",
       "296                           1                           0   \n",
       "297                           1                           1   \n",
       "298                           0                           0   \n",
       "\n",
       "     creatinine_phosphokinase_2  creatinine_phosphokinase_3  \\\n",
       "0                             0                           0   \n",
       "1                             1                           1   \n",
       "2                             0                           0   \n",
       "3                             0                           0   \n",
       "4                             0                           0   \n",
       "..                          ...                         ...   \n",
       "294                           0                           0   \n",
       "295                           0                           0   \n",
       "296                           0                           0   \n",
       "297                           0                           0   \n",
       "298                           0                           0   \n",
       "\n",
       "     creatinine_phosphokinase_4  creatinine_phosphokinase_5  \\\n",
       "0                             0                           0   \n",
       "1                             1                           1   \n",
       "2                             0                           0   \n",
       "3                             0                           0   \n",
       "4                             0                           0   \n",
       "..                          ...                         ...   \n",
       "294                           0                           0   \n",
       "295                           0                           0   \n",
       "296                           0                           0   \n",
       "297                           0                           0   \n",
       "298                           0                           0   \n",
       "\n",
       "     creatinine_phosphokinase_6  \n",
       "0                             0  \n",
       "1                             1  \n",
       "2                             0  \n",
       "3                             0  \n",
       "4                             0  \n",
       "..                          ...  \n",
       "294                           0  \n",
       "295                           0  \n",
       "296                           0  \n",
       "297                           0  \n",
       "298                           0  \n",
       "\n",
       "[299 rows x 55 columns]"
      ]
     },
     "execution_count": 256,
     "metadata": {},
     "output_type": "execute_result"
    }
   ],
   "source": [
    "df = pd.read_csv('data4ready.csv')\n",
    "df"
   ]
  },
  {
   "cell_type": "code",
   "execution_count": 257,
   "metadata": {},
   "outputs": [],
   "source": [
    "X = df.drop(['DEATH_EVENT'], axis = 1)\n",
    "y = df.DEATH_EVENT"
   ]
  },
  {
   "cell_type": "code",
   "execution_count": 258,
   "metadata": {},
   "outputs": [],
   "source": [
    "X_train, X_test, y_train, y_test = train_test_split(X, y, test_size=0.3, random_state=10)"
   ]
  },
  {
   "cell_type": "code",
   "execution_count": 261,
   "metadata": {},
   "outputs": [],
   "source": [
    "def print_metr(y_test, y_pred):\n",
    "    TP = np.sum(y_test & y_pred)\n",
    "    TN = np.sum(y_test + y_pred == 0)\n",
    "    FP = np.sum((y_test  == 0) & (y_pred == 1))\n",
    "    FN = np.sum((y_test  == 1) & (y_pred == 0))\n",
    "    TPR = float(TP) / (TP + FN)\n",
    "    TNR = float(TN) / (TN + FP)\n",
    "    FPR = float(FP) / (FP + TN)\n",
    "    NPV = float(TN) / (TN + FN)\n",
    "    FDR = float(FP) / (TP + FP)\n",
    "    acc = accuracy_score(y_test, y_pred)\n",
    "    prc = precision_score(y_test, y_pred)\n",
    "    rec = recall_score(y_test, y_pred)\n",
    "    f1 = metrics.f1_score(y_test, y_pred)\n",
    "    avg = (TPR+TNR+FPR+NPV+FDR+acc+prc+rec+f1) / 9\n",
    "    print(\"True positive:\", TP ,\"\\n\" \n",
    "            \"True Negative:\", TN,\"\\n\"\n",
    "            \"False Positive:\", FP,\"\\n\"\n",
    "            \"False Negative:\", FN,\"\\n\"\n",
    "            \"True Positive Rate:\", TPR,\"\\n\"\n",
    "            \"True Negative Rate:\", TNR,\"\\n\"\n",
    "            \"Negative Predictive Value:\", NPV,\"\\n\"\n",
    "            \"False Positive Rate:\",FPR,\"\\n\"\n",
    "            \"False Discovery Rate:\",FDR,\"\\n\"\n",
    "            \"Accuracy:\", acc,\"\\n\"\n",
    "            \"Precision:\", prc,\"\\n\"\n",
    "            \"Recall:\", rec,\"\\n\"\n",
    "            \"F1 score:\", f1\n",
    "            )"
   ]
  },
  {
   "cell_type": "code",
   "execution_count": 262,
   "metadata": {},
   "outputs": [
    {
     "name": "stdout",
     "output_type": "stream",
     "text": [
      "------------------------------------------------------\n",
      "treshold: 0.1\n",
      "True positive: 0 \n",
      "True Negative: 61 \n",
      "False Positive: 0 \n",
      "False Negative: 29 \n",
      "True Positive Rate: 0.0 \n",
      "True Negative Rate: 1.0 \n",
      "Negative Predictive Value: 0.6777777777777778 \n",
      "False Positive Rate: 0.0 \n",
      "False Discovery Rate: nan \n",
      "Accuracy: 0.6777777777777778 \n",
      "Precision: 0.0 \n",
      "Recall: 0.0 \n",
      "F1 score: 0.0\n",
      "None\n"
     ]
    },
    {
     "name": "stderr",
     "output_type": "stream",
     "text": [
      "C:\\Users\\sasuc\\Anaconda3\\lib\\site-packages\\sklearn\\metrics\\classification.py:1437: UndefinedMetricWarning: Precision is ill-defined and being set to 0.0 due to no predicted samples.\n",
      "  'precision', 'predicted', average, warn_for)\n",
      "C:\\Users\\sasuc\\Anaconda3\\lib\\site-packages\\sklearn\\metrics\\classification.py:1437: UndefinedMetricWarning: F-score is ill-defined and being set to 0.0 due to no predicted samples.\n",
      "  'precision', 'predicted', average, warn_for)\n"
     ]
    },
    {
     "name": "stdout",
     "output_type": "stream",
     "text": [
      "------------------------------------------------------\n",
      "treshold: 0.2\n",
      "True positive: 0 \n",
      "True Negative: 61 \n",
      "False Positive: 0 \n",
      "False Negative: 29 \n",
      "True Positive Rate: 0.0 \n",
      "True Negative Rate: 1.0 \n",
      "Negative Predictive Value: 0.6777777777777778 \n",
      "False Positive Rate: 0.0 \n",
      "False Discovery Rate: nan \n",
      "Accuracy: 0.6777777777777778 \n",
      "Precision: 0.0 \n",
      "Recall: 0.0 \n",
      "F1 score: 0.0\n",
      "None\n"
     ]
    },
    {
     "name": "stderr",
     "output_type": "stream",
     "text": [
      "C:\\Users\\sasuc\\Anaconda3\\lib\\site-packages\\sklearn\\metrics\\classification.py:1437: UndefinedMetricWarning: Precision is ill-defined and being set to 0.0 due to no predicted samples.\n",
      "  'precision', 'predicted', average, warn_for)\n",
      "C:\\Users\\sasuc\\Anaconda3\\lib\\site-packages\\sklearn\\metrics\\classification.py:1437: UndefinedMetricWarning: F-score is ill-defined and being set to 0.0 due to no predicted samples.\n",
      "  'precision', 'predicted', average, warn_for)\n"
     ]
    },
    {
     "name": "stdout",
     "output_type": "stream",
     "text": [
      "------------------------------------------------------\n",
      "treshold: 0.30000000000000004\n",
      "True positive: 0 \n",
      "True Negative: 61 \n",
      "False Positive: 0 \n",
      "False Negative: 29 \n",
      "True Positive Rate: 0.0 \n",
      "True Negative Rate: 1.0 \n",
      "Negative Predictive Value: 0.6777777777777778 \n",
      "False Positive Rate: 0.0 \n",
      "False Discovery Rate: nan \n",
      "Accuracy: 0.6777777777777778 \n",
      "Precision: 0.0 \n",
      "Recall: 0.0 \n",
      "F1 score: 0.0\n",
      "None\n"
     ]
    },
    {
     "name": "stderr",
     "output_type": "stream",
     "text": [
      "C:\\Users\\sasuc\\Anaconda3\\lib\\site-packages\\sklearn\\metrics\\classification.py:1437: UndefinedMetricWarning: Precision is ill-defined and being set to 0.0 due to no predicted samples.\n",
      "  'precision', 'predicted', average, warn_for)\n",
      "C:\\Users\\sasuc\\Anaconda3\\lib\\site-packages\\sklearn\\metrics\\classification.py:1437: UndefinedMetricWarning: F-score is ill-defined and being set to 0.0 due to no predicted samples.\n",
      "  'precision', 'predicted', average, warn_for)\n"
     ]
    },
    {
     "name": "stdout",
     "output_type": "stream",
     "text": [
      "------------------------------------------------------\n",
      "treshold: 0.4\n",
      "True positive: 0 \n",
      "True Negative: 61 \n",
      "False Positive: 0 \n",
      "False Negative: 29 \n",
      "True Positive Rate: 0.0 \n",
      "True Negative Rate: 1.0 \n",
      "Negative Predictive Value: 0.6777777777777778 \n",
      "False Positive Rate: 0.0 \n",
      "False Discovery Rate: nan \n",
      "Accuracy: 0.6777777777777778 \n",
      "Precision: 0.0 \n",
      "Recall: 0.0 \n",
      "F1 score: 0.0\n",
      "None\n"
     ]
    },
    {
     "name": "stderr",
     "output_type": "stream",
     "text": [
      "C:\\Users\\sasuc\\Anaconda3\\lib\\site-packages\\sklearn\\metrics\\classification.py:1437: UndefinedMetricWarning: Precision is ill-defined and being set to 0.0 due to no predicted samples.\n",
      "  'precision', 'predicted', average, warn_for)\n",
      "C:\\Users\\sasuc\\Anaconda3\\lib\\site-packages\\sklearn\\metrics\\classification.py:1437: UndefinedMetricWarning: F-score is ill-defined and being set to 0.0 due to no predicted samples.\n",
      "  'precision', 'predicted', average, warn_for)\n"
     ]
    },
    {
     "name": "stdout",
     "output_type": "stream",
     "text": [
      "------------------------------------------------------\n",
      "treshold: 0.5\n",
      "True positive: 6 \n",
      "True Negative: 61 \n",
      "False Positive: 0 \n",
      "False Negative: 23 \n",
      "True Positive Rate: 0.20689655172413793 \n",
      "True Negative Rate: 1.0 \n",
      "Negative Predictive Value: 0.7261904761904762 \n",
      "False Positive Rate: 0.0 \n",
      "False Discovery Rate: 0.0 \n",
      "Accuracy: 0.7444444444444445 \n",
      "Precision: 1.0 \n",
      "Recall: 0.20689655172413793 \n",
      "F1 score: 0.34285714285714286\n",
      "None\n",
      "------------------------------------------------------\n",
      "treshold: 0.6\n",
      "True positive: 9 \n",
      "True Negative: 54 \n",
      "False Positive: 7 \n",
      "False Negative: 20 \n",
      "True Positive Rate: 0.3103448275862069 \n",
      "True Negative Rate: 0.8852459016393442 \n",
      "Negative Predictive Value: 0.7297297297297297 \n",
      "False Positive Rate: 0.11475409836065574 \n",
      "False Discovery Rate: 0.4375 \n",
      "Accuracy: 0.7 \n",
      "Precision: 0.5625 \n",
      "Recall: 0.3103448275862069 \n",
      "F1 score: 0.4\n",
      "None\n",
      "------------------------------------------------------\n",
      "treshold: 0.7000000000000001\n",
      "True positive: 19 \n",
      "True Negative: 56 \n",
      "False Positive: 5 \n",
      "False Negative: 10 \n",
      "True Positive Rate: 0.6551724137931034 \n",
      "True Negative Rate: 0.9180327868852459 \n",
      "Negative Predictive Value: 0.8484848484848485 \n",
      "False Positive Rate: 0.08196721311475409 \n",
      "False Discovery Rate: 0.20833333333333334 \n",
      "Accuracy: 0.8333333333333334 \n",
      "Precision: 0.7916666666666666 \n",
      "Recall: 0.6551724137931034 \n",
      "F1 score: 0.7169811320754716\n",
      "None\n",
      "------------------------------------------------------\n",
      "treshold: 0.8\n",
      "True positive: 22 \n",
      "True Negative: 55 \n",
      "False Positive: 6 \n",
      "False Negative: 7 \n",
      "True Positive Rate: 0.7586206896551724 \n",
      "True Negative Rate: 0.9016393442622951 \n",
      "Negative Predictive Value: 0.8870967741935484 \n",
      "False Positive Rate: 0.09836065573770492 \n",
      "False Discovery Rate: 0.21428571428571427 \n",
      "Accuracy: 0.8555555555555555 \n",
      "Precision: 0.7857142857142857 \n",
      "Recall: 0.7586206896551724 \n",
      "F1 score: 0.7719298245614034\n",
      "None\n",
      "------------------------------------------------------\n",
      "treshold: 0.9\n",
      "True positive: 24 \n",
      "True Negative: 52 \n",
      "False Positive: 9 \n",
      "False Negative: 5 \n",
      "True Positive Rate: 0.8275862068965517 \n",
      "True Negative Rate: 0.8524590163934426 \n",
      "Negative Predictive Value: 0.9122807017543859 \n",
      "False Positive Rate: 0.14754098360655737 \n",
      "False Discovery Rate: 0.2727272727272727 \n",
      "Accuracy: 0.8444444444444444 \n",
      "Precision: 0.7272727272727273 \n",
      "Recall: 0.8275862068965517 \n",
      "F1 score: 0.7741935483870968\n",
      "None\n",
      "------------------------------------------------------\n",
      "treshold: 1.0\n",
      "True positive: 0 \n",
      "True Negative: 61 \n",
      "False Positive: 0 \n",
      "False Negative: 29 \n",
      "True Positive Rate: 0.0 \n",
      "True Negative Rate: 1.0 \n",
      "Negative Predictive Value: 0.6777777777777778 \n",
      "False Positive Rate: 0.0 \n",
      "False Discovery Rate: nan \n",
      "Accuracy: 0.6777777777777778 \n",
      "Precision: 0.0 \n",
      "Recall: 0.0 \n",
      "F1 score: 0.0\n",
      "None\n"
     ]
    },
    {
     "name": "stderr",
     "output_type": "stream",
     "text": [
      "C:\\Users\\sasuc\\Anaconda3\\lib\\site-packages\\sklearn\\metrics\\classification.py:1437: UndefinedMetricWarning: Precision is ill-defined and being set to 0.0 due to no predicted samples.\n",
      "  'precision', 'predicted', average, warn_for)\n",
      "C:\\Users\\sasuc\\Anaconda3\\lib\\site-packages\\sklearn\\metrics\\classification.py:1437: UndefinedMetricWarning: F-score is ill-defined and being set to 0.0 due to no predicted samples.\n",
      "  'precision', 'predicted', average, warn_for)\n"
     ]
    }
   ],
   "source": [
    "for treshold in np.linspace(0.1, 1, 10):\n",
    "    pred = LazyClassifier(treshold)\n",
    "    pred.fit(X, y)\n",
    "    y_pred1 = pred.predict(X_test)\n",
    "    print(\"------------------------------------------------------\")\n",
    "    print(\"treshold:\", treshold)\n",
    "    print(print_metr(y_test, y_pred1))"
   ]
  },
  {
   "cell_type": "code",
   "execution_count": 290,
   "metadata": {},
   "outputs": [],
   "source": [
    "lazy = LazyClassifier(threshold=0.7)"
   ]
  },
  {
   "cell_type": "code",
   "execution_count": 291,
   "metadata": {},
   "outputs": [
    {
     "data": {
      "text/plain": [
       "LazyClassifier(threshold=0.7)"
      ]
     },
     "execution_count": 291,
     "metadata": {},
     "output_type": "execute_result"
    }
   ],
   "source": [
    "lazy.fit(X_train, y_train)"
   ]
  },
  {
   "cell_type": "code",
   "execution_count": 292,
   "metadata": {},
   "outputs": [],
   "source": [
    "y_pred = lazy.predict(X_test)"
   ]
  },
  {
   "cell_type": "code",
   "execution_count": 293,
   "metadata": {},
   "outputs": [
    {
     "name": "stdout",
     "output_type": "stream",
     "text": [
      "True positive: 21 \n",
      "True Negative: 54 \n",
      "False Positive: 7 \n",
      "False Negative: 8 \n",
      "True Positive Rate: 0.7241379310344828 \n",
      "True Negative Rate: 0.8852459016393442 \n",
      "Negative Predictive Value: 0.8709677419354839 \n",
      "False Positive Rate: 0.11475409836065574 \n",
      "False Discovery Rate: 0.25 \n",
      "Accuracy: 0.8333333333333334 \n",
      "Precision: 0.75 \n",
      "Recall: 0.7241379310344828 \n",
      "F1 score: 0.736842105263158\n"
     ]
    }
   ],
   "source": [
    "print_metr(y_test, y_pred)"
   ]
  },
  {
   "cell_type": "code",
   "execution_count": 267,
   "metadata": {},
   "outputs": [],
   "source": [
    "lr = LogisticRegression(random_state=42)"
   ]
  },
  {
   "cell_type": "code",
   "execution_count": 268,
   "metadata": {},
   "outputs": [
    {
     "data": {
      "text/plain": [
       "LogisticRegression(C=1.0, class_weight=None, dual=False, fit_intercept=True,\n",
       "                   intercept_scaling=1, l1_ratio=None, max_iter=100,\n",
       "                   multi_class='warn', n_jobs=None, penalty='l2',\n",
       "                   random_state=42, solver='warn', tol=0.0001, verbose=0,\n",
       "                   warm_start=False)"
      ]
     },
     "execution_count": 268,
     "metadata": {},
     "output_type": "execute_result"
    }
   ],
   "source": [
    "lr.fit(X,y)"
   ]
  },
  {
   "cell_type": "code",
   "execution_count": 269,
   "metadata": {},
   "outputs": [
    {
     "name": "stdout",
     "output_type": "stream",
     "text": [
      "True positive: 23 \n",
      "True Negative: 57 \n",
      "False Positive: 4 \n",
      "False Negative: 6 \n",
      "True Positive Rate: 0.7931034482758621 \n",
      "True Negative Rate: 0.9344262295081968 \n",
      "Negative Predictive Value: 0.9047619047619048 \n",
      "False Positive Rate: 0.06557377049180328 \n",
      "False Discovery Rate: 0.14814814814814814 \n",
      "Accuracy: 0.8888888888888888 \n",
      "Precision: 0.8518518518518519 \n",
      "Recall: 0.7931034482758621 \n",
      "F1 score: 0.8214285714285715\n"
     ]
    }
   ],
   "source": [
    "lr_pred = lr.predict(X_test)\n",
    "print_metr(y_test, lr_pred)"
   ]
  },
  {
   "cell_type": "code",
   "execution_count": 270,
   "metadata": {},
   "outputs": [],
   "source": [
    "neigh = KNeighborsClassifier(n_neighbors=5)"
   ]
  },
  {
   "cell_type": "code",
   "execution_count": 271,
   "metadata": {},
   "outputs": [
    {
     "data": {
      "text/plain": [
       "KNeighborsClassifier(algorithm='auto', leaf_size=30, metric='minkowski',\n",
       "                     metric_params=None, n_jobs=None, n_neighbors=5, p=2,\n",
       "                     weights='uniform')"
      ]
     },
     "execution_count": 271,
     "metadata": {},
     "output_type": "execute_result"
    }
   ],
   "source": [
    "neigh.fit(X,y)"
   ]
  },
  {
   "cell_type": "code",
   "execution_count": 272,
   "metadata": {},
   "outputs": [],
   "source": [
    "neight_pred = neigh.predict(X_test)"
   ]
  },
  {
   "cell_type": "code",
   "execution_count": 273,
   "metadata": {},
   "outputs": [
    {
     "name": "stdout",
     "output_type": "stream",
     "text": [
      "True positive: 18 \n",
      "True Negative: 56 \n",
      "False Positive: 5 \n",
      "False Negative: 11 \n",
      "True Positive Rate: 0.6206896551724138 \n",
      "True Negative Rate: 0.9180327868852459 \n",
      "Negative Predictive Value: 0.835820895522388 \n",
      "False Positive Rate: 0.08196721311475409 \n",
      "False Discovery Rate: 0.21739130434782608 \n",
      "Accuracy: 0.8222222222222222 \n",
      "Precision: 0.782608695652174 \n",
      "Recall: 0.6206896551724138 \n",
      "F1 score: 0.6923076923076923\n"
     ]
    }
   ],
   "source": [
    "print_metr(y_test, neight_pred)"
   ]
  },
  {
   "cell_type": "code",
   "execution_count": 274,
   "metadata": {},
   "outputs": [
    {
     "data": {
      "text/plain": [
       "AdaBoostClassifier(algorithm='SAMME.R', base_estimator=None, learning_rate=1.0,\n",
       "                   n_estimators=100, random_state=0)"
      ]
     },
     "execution_count": 274,
     "metadata": {},
     "output_type": "execute_result"
    }
   ],
   "source": [
    "from sklearn.ensemble import AdaBoostClassifier\n",
    "\n",
    "adaboost = AdaBoostClassifier(n_estimators=100, random_state=0)\n",
    "adaboost.fit(X,y)"
   ]
  },
  {
   "cell_type": "code",
   "execution_count": 275,
   "metadata": {},
   "outputs": [],
   "source": [
    "ada_pr = adaboost.predict(X_test)"
   ]
  },
  {
   "cell_type": "code",
   "execution_count": 276,
   "metadata": {},
   "outputs": [
    {
     "name": "stdout",
     "output_type": "stream",
     "text": [
      "True positive: 22 \n",
      "True Negative: 56 \n",
      "False Positive: 5 \n",
      "False Negative: 7 \n",
      "True Positive Rate: 0.7586206896551724 \n",
      "True Negative Rate: 0.9180327868852459 \n",
      "Negative Predictive Value: 0.8888888888888888 \n",
      "False Positive Rate: 0.08196721311475409 \n",
      "False Discovery Rate: 0.18518518518518517 \n",
      "Accuracy: 0.8666666666666667 \n",
      "Precision: 0.8148148148148148 \n",
      "Recall: 0.7586206896551724 \n",
      "F1 score: 0.7857142857142857\n"
     ]
    }
   ],
   "source": [
    "print_metr(y_test, ada_pr)"
   ]
  },
  {
   "cell_type": "code",
   "execution_count": 277,
   "metadata": {},
   "outputs": [],
   "source": [
    "from sklearn.gaussian_process import GaussianProcessClassifier\n",
    "\n",
    "gpc = GaussianProcessClassifier(random_state=0).fit(X, y)"
   ]
  },
  {
   "cell_type": "code",
   "execution_count": 278,
   "metadata": {},
   "outputs": [],
   "source": [
    "gpc_pr = gpc.predict(X_test)"
   ]
  },
  {
   "cell_type": "code",
   "execution_count": 279,
   "metadata": {},
   "outputs": [
    {
     "name": "stdout",
     "output_type": "stream",
     "text": [
      "True positive: 26 \n",
      "True Negative: 61 \n",
      "False Positive: 0 \n",
      "False Negative: 3 \n",
      "True Positive Rate: 0.896551724137931 \n",
      "True Negative Rate: 1.0 \n",
      "Negative Predictive Value: 0.953125 \n",
      "False Positive Rate: 0.0 \n",
      "False Discovery Rate: 0.0 \n",
      "Accuracy: 0.9666666666666667 \n",
      "Precision: 1.0 \n",
      "Recall: 0.896551724137931 \n",
      "F1 score: 0.9454545454545454\n"
     ]
    }
   ],
   "source": [
    "print_metr(y_test, gpc_pr)"
   ]
  },
  {
   "cell_type": "code",
   "execution_count": 280,
   "metadata": {},
   "outputs": [
    {
     "data": {
      "text/plain": [
       "<matplotlib.legend.Legend at 0x1a13e4ebe48>"
      ]
     },
     "execution_count": 280,
     "metadata": {},
     "output_type": "execute_result"
    },
    {
     "data": {
      "image/png": "[encoded data removed]",
      "text/plain": [
       "<Figure size 1080x720 with 1 Axes>"
      ]
     },
     "metadata": {
      "needs_background": "light"
     },
     "output_type": "display_data"
    }
   ],
   "source": [
    "fpr, tpr, thresholds = metrics.roc_curve(y_test, y_pred)\n",
    "fpr1, tpr1, thresholds1 = metrics.roc_curve(y_test, lr_pred)\n",
    "fpr2, tpr2, thresholds1 = metrics.roc_curve(y_test, neight_pred)\n",
    "fpr3, tpr3, thresholds1 = metrics.roc_curve(y_test, ada_pr)\n",
    "fpr4, tpr4, thresholds1 = metrics.roc_curve(y_test, gpc_pr)\n",
    "fig = plt.figure(figsize=(15,10))\n",
    "plt.plot(fpr, tpr, label=\"LazyFCA\")\n",
    "plt.plot(fpr1, tpr1, label=\"LogisticRegression\")\n",
    "plt.plot(fpr2, tpr2, label=\"KNeighbors\")\n",
    "plt.plot(fpr3, tpr3, label=\"AdaBoost\")\n",
    "plt.plot(fpr4, tpr4, label=\"GaussianProcess\")\n",
    "plt.xlim([0.0, 1.0])\n",
    "plt.ylim([0.0, 1.0])\n",
    "plt.rcParams['font.size'] = 12\n",
    "plt.title('ROC curve')\n",
    "plt.xlabel('False Positive Rate')\n",
    "plt.ylabel('True Positive Rate')\n",
    "plt.grid(True)\n",
    "plt.legend()"
   ]
  },
  {
   "cell_type": "code",
   "execution_count": 281,
   "metadata": {},
   "outputs": [
    {
     "data": {
      "text/plain": [
       "<matplotlib.legend.Legend at 0x1a13e545e48>"
      ]
     },
     "execution_count": 281,
     "metadata": {},
     "output_type": "execute_result"
    },
    {
     "data": {
      "image/png": "[encoded data removed]",
      "text/plain": [
       "<Figure size 1080x720 with 1 Axes>"
      ]
     },
     "metadata": {
      "needs_background": "light"
     },
     "output_type": "display_data"
    }
   ],
   "source": [
    "precision, recall, thresholds = metrics.precision_recall_curve(y_test, y_pred)\n",
    "precision1, recall1, thresholds1 = metrics.precision_recall_curve(y_test, lr_pred)\n",
    "precision2, recall2, thresholds2 = metrics.precision_recall_curve(y_test, neight_pred)\n",
    "precision3, recall3, thresholds3 = metrics.precision_recall_curve(y_test, ada_pr)\n",
    "precision4, recall4, thresholds4 = metrics.precision_recall_curve(y_test, gpc_pr)\n",
    "fig = plt.figure(figsize=(15,10))\n",
    "plt.plot(precision, recall, label=\"LazyFCA\")\n",
    "plt.plot(precision1, recall1, label=\"LogisticRegression\")\n",
    "plt.plot(precision2, recall2, label=\"KNeighbors\")\n",
    "plt.plot(precision3, recall3, label=\"AdaBoost\")\n",
    "plt.plot(precision4, recall4, label=\"GaussianProcess\")\n",
    "plt.xlim([0.0, 1])\n",
    "plt.ylim([0.0, 1])\n",
    "plt.rcParams['font.size'] = 12\n",
    "plt.title('PRC Curve')\n",
    "plt.xlabel('Recall')\n",
    "plt.ylabel('Precision')\n",
    "plt.grid(True)\n",
    "plt.legend()"
   ]
  },
  {
   "cell_type": "code",
   "execution_count": null,
   "metadata": {},
   "outputs": [],
   "source": []
  }
 ],
 "metadata": {
  "kernelspec": {
   "display_name": "Python 3",
   "language": "python",
   "name": "python3"
  },
  "language_info": {
   "codemirror_mode": {
    "name": "ipython",
    "version": 3
   },
   "file_extension": ".py",
   "mimetype": "text/x-python",
   "name": "python",
   "nbconvert_exporter": "python",
   "pygments_lexer": "ipython3",
   "version": "3.7.4"
  }
 },
 "nbformat": 4,
 "nbformat_minor": 2
}
